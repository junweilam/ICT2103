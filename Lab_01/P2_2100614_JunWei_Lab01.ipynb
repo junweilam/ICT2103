{
 "cells": [
  {
   "cell_type": "code",
   "execution_count": 23,
   "metadata": {},
   "outputs": [
    {
     "name": "stdout",
     "output_type": "stream",
     "text": [
      "2022-08-30 14:24:04,129 INFO sqlalchemy.engine.Engine BEGIN (implicit)\n",
      "2022-08-30 14:24:04,130 INFO sqlalchemy.engine.Engine PRAGMA main.table_info(\"TB2103\")\n",
      "2022-08-30 14:24:04,130 INFO sqlalchemy.engine.Engine [raw sql] ()\n",
      "2022-08-30 14:24:04,132 INFO sqlalchemy.engine.Engine PRAGMA temp.table_info(\"TB2103\")\n",
      "2022-08-30 14:24:04,132 INFO sqlalchemy.engine.Engine [raw sql] ()\n",
      "2022-08-30 14:24:04,134 INFO sqlalchemy.engine.Engine \n",
      "CREATE TABLE \"TB2103\" (\n",
      "\tsid INTEGER NOT NULL, \n",
      "\tname VARCHAR, \n",
      "\tgrade VARCHAR, \n",
      "\tPRIMARY KEY (sid)\n",
      ")\n",
      "\n",
      "\n",
      "2022-08-30 14:24:04,134 INFO sqlalchemy.engine.Engine [no key 0.00051s] ()\n",
      "2022-08-30 14:24:04,136 INFO sqlalchemy.engine.Engine COMMIT\n"
     ]
    }
   ],
   "source": [
    "from requests import session\n",
    "from sqlalchemy import Table, Column, Integer, String, MetaData, create_engine\n",
    "from sqlalchemy import select\n",
    "from sqlalchemy.orm import declarative_base, sessionmaker\n",
    "\n",
    "Base = declarative_base()\n",
    "\n",
    "class CLS2223T1(Base):\n",
    "    __tablename__ = \"TB2103\"\n",
    "\n",
    "    sid = Column(Integer, primary_key = True)\n",
    "    name = Column(String)\n",
    "    grade = Column(String)\n",
    "\n",
    "    def __init__(self, sid, name, grade):\n",
    "        self.sid = sid\n",
    "        self.name = name\n",
    "        self.grade = grade\n",
    "\n",
    "    def __repr__(self):\n",
    "        return \"<CLS2223T1(sid='%s', name='%s', grade='%s')>\"%(self.sid, self.name, self.grade)\n",
    "    \n",
    "#Create all Tables\n",
    "engine = create_engine('sqlite:///lab_1.db', echo = True)\n",
    "Base.metadata.create_all(engine)\n",
    "\n",
    "Session = sessionmaker(bind = engine)"
   ]
  },
  {
   "cell_type": "code",
   "execution_count": 24,
   "metadata": {},
   "outputs": [
    {
     "name": "stdout",
     "output_type": "stream",
     "text": [
      "2022-08-30 14:24:04,158 INFO sqlalchemy.engine.Engine BEGIN (implicit)\n",
      "2022-08-30 14:24:04,159 INFO sqlalchemy.engine.Engine SELECT \"TB2103\".sid AS \"TB2103_sid\", \"TB2103\".name AS \"TB2103_name\", \"TB2103\".grade AS \"TB2103_grade\" \n",
      "FROM \"TB2103\"\n",
      "2022-08-30 14:24:04,160 INFO sqlalchemy.engine.Engine [generated in 0.00068s] ()\n",
      "[]\n",
      "2022-08-30 14:24:04,161 INFO sqlalchemy.engine.Engine ROLLBACK\n"
     ]
    }
   ],
   "source": [
    "\n",
    "with Session() as sessionInstance:\n",
    "    #Query table TB2103\n",
    "    print_table = sessionInstance.query(CLS2223T1)\n",
    "    print(print_table.all())\n",
    "    sessionInstance.close()"
   ]
  },
  {
   "cell_type": "code",
   "execution_count": 25,
   "metadata": {},
   "outputs": [
    {
     "name": "stdout",
     "output_type": "stream",
     "text": [
      "2022-08-30 14:24:04,181 INFO sqlalchemy.engine.Engine BEGIN (implicit)\n",
      "2022-08-30 14:24:04,182 INFO sqlalchemy.engine.Engine INSERT INTO \"TB2103\" (sid, name, grade) VALUES (?, ?, ?)\n",
      "2022-08-30 14:24:04,183 INFO sqlalchemy.engine.Engine [generated in 0.00068s] (2100614, 'JunWei', 'NA')\n",
      "2022-08-30 14:24:04,184 INFO sqlalchemy.engine.Engine COMMIT\n",
      "2022-08-30 14:24:04,185 INFO sqlalchemy.engine.Engine BEGIN (implicit)\n",
      "2022-08-30 14:24:04,186 INFO sqlalchemy.engine.Engine SELECT \"TB2103\".sid AS \"TB2103_sid\", \"TB2103\".name AS \"TB2103_name\", \"TB2103\".grade AS \"TB2103_grade\" \n",
      "FROM \"TB2103\"\n",
      "2022-08-30 14:24:04,186 INFO sqlalchemy.engine.Engine [cached since 0.02664s ago] ()\n",
      "[<CLS2223T1(sid='2100614', name='JunWei', grade='NA')>]\n",
      "2022-08-30 14:24:04,187 INFO sqlalchemy.engine.Engine ROLLBACK\n"
     ]
    }
   ],
   "source": [
    "with Session() as sessionInstance:\n",
    "    #Add myself to table\n",
    "    JunWei = CLS2223T1(2100614, \"JunWei\" , \"NA\")\n",
    "    sessionInstance.add(JunWei)\n",
    "    sessionInstance.commit()\n",
    "    add_myself = sessionInstance.query(CLS2223T1)\n",
    "    print(add_myself.all())\n",
    "    sessionInstance.close()"
   ]
  },
  {
   "cell_type": "code",
   "execution_count": 26,
   "metadata": {},
   "outputs": [
    {
     "name": "stdout",
     "output_type": "stream",
     "text": [
      "2022-08-30 14:24:04,214 INFO sqlalchemy.engine.Engine BEGIN (implicit)\n",
      "2022-08-30 14:24:04,216 INFO sqlalchemy.engine.Engine INSERT INTO \"TB2103\" (sid, name, grade) VALUES (?, ?, ?)\n",
      "2022-08-30 14:24:04,216 INFO sqlalchemy.engine.Engine [generated in 0.00066s] ((2002345, 'Sansa Stark', 'NA'), (2003456, 'Jon Snow', 'NA'))\n",
      "2022-08-30 14:24:04,218 INFO sqlalchemy.engine.Engine COMMIT\n",
      "2022-08-30 14:24:04,221 INFO sqlalchemy.engine.Engine BEGIN (implicit)\n",
      "2022-08-30 14:24:04,223 INFO sqlalchemy.engine.Engine SELECT \"TB2103\".sid AS \"TB2103_sid\", \"TB2103\".name AS \"TB2103_name\", \"TB2103\".grade AS \"TB2103_grade\" \n",
      "FROM \"TB2103\"\n",
      "2022-08-30 14:24:04,224 INFO sqlalchemy.engine.Engine [cached since 0.06512s ago] ()\n",
      "[<CLS2223T1(sid='2002345', name='Sansa Stark', grade='NA')>, <CLS2223T1(sid='2003456', name='Jon Snow', grade='NA')>, <CLS2223T1(sid='2100614', name='JunWei', grade='NA')>]\n",
      "2022-08-30 14:24:04,229 INFO sqlalchemy.engine.Engine ROLLBACK\n"
     ]
    }
   ],
   "source": [
    "with Session() as sessionInstance:\n",
    "    #Add Sansa and Jon\n",
    "    Sansa = CLS2223T1(2002345, \"Sansa Stark\", \"NA\")\n",
    "    Jon = CLS2223T1(2003456, \"Jon Snow\", \"NA\")\n",
    "    sessionInstance.add(Sansa)\n",
    "    sessionInstance.add(Jon)\n",
    "    sessionInstance.commit()\n",
    "    add_jon = sessionInstance.query(CLS2223T1)\n",
    "    print(add_jon.all())\n",
    "    sessionInstance.close()"
   ]
  },
  {
   "cell_type": "code",
   "execution_count": 27,
   "metadata": {},
   "outputs": [
    {
     "name": "stdout",
     "output_type": "stream",
     "text": [
      "2022-08-30 14:24:04,251 INFO sqlalchemy.engine.Engine BEGIN (implicit)\n",
      "2022-08-30 14:24:04,252 INFO sqlalchemy.engine.Engine SELECT \"TB2103\".sid AS \"TB2103_sid\", \"TB2103\".name AS \"TB2103_name\", \"TB2103\".grade AS \"TB2103_grade\" \n",
      "FROM \"TB2103\" \n",
      "WHERE \"TB2103\".sid = ?\n",
      " LIMIT ? OFFSET ?\n",
      "2022-08-30 14:24:04,252 INFO sqlalchemy.engine.Engine [generated in 0.00080s] ('2003456', 1, 0)\n",
      "2022-08-30 14:24:04,254 INFO sqlalchemy.engine.Engine UPDATE \"TB2103\" SET grade=? WHERE \"TB2103\".sid = ?\n",
      "2022-08-30 14:24:04,254 INFO sqlalchemy.engine.Engine [generated in 0.00040s] ('A-', 2003456)\n",
      "2022-08-30 14:24:04,255 INFO sqlalchemy.engine.Engine COMMIT\n",
      "2022-08-30 14:24:04,256 INFO sqlalchemy.engine.Engine BEGIN (implicit)\n",
      "2022-08-30 14:24:04,257 INFO sqlalchemy.engine.Engine SELECT \"TB2103\".sid AS \"TB2103_sid\", \"TB2103\".name AS \"TB2103_name\", \"TB2103\".grade AS \"TB2103_grade\" \n",
      "FROM \"TB2103\"\n",
      "2022-08-30 14:24:04,257 INFO sqlalchemy.engine.Engine [cached since 0.09794s ago] ()\n",
      "[<CLS2223T1(sid='2002345', name='Sansa Stark', grade='NA')>, <CLS2223T1(sid='2003456', name='Jon Snow', grade='A-')>, <CLS2223T1(sid='2100614', name='JunWei', grade='NA')>]\n",
      "2022-08-30 14:24:04,258 INFO sqlalchemy.engine.Engine ROLLBACK\n"
     ]
    }
   ],
   "source": [
    "with Session() as sessionInstance:\n",
    "    #Update Jon grade\n",
    "    Jon = sessionInstance.query(CLS2223T1).filter(CLS2223T1.sid == '2003456').first()\n",
    "    Jon.grade = \"A-\"\n",
    "    sessionInstance.commit()\n",
    "    update_jon = sessionInstance.query(CLS2223T1)\n",
    "    print(update_jon.all())\n",
    "    sessionInstance.close()"
   ]
  },
  {
   "cell_type": "code",
   "execution_count": 28,
   "metadata": {},
   "outputs": [
    {
     "name": "stdout",
     "output_type": "stream",
     "text": [
      "2022-08-30 14:24:04,280 INFO sqlalchemy.engine.Engine BEGIN (implicit)\n",
      "2022-08-30 14:24:04,280 INFO sqlalchemy.engine.Engine SELECT \"TB2103\".sid AS \"TB2103_sid\", \"TB2103\".name AS \"TB2103_name\", \"TB2103\".grade AS \"TB2103_grade\" \n",
      "FROM \"TB2103\" \n",
      "WHERE \"TB2103\".sid = ?\n",
      " LIMIT ? OFFSET ?\n",
      "2022-08-30 14:24:04,281 INFO sqlalchemy.engine.Engine [cached since 0.02923s ago] ('2100614', 1, 0)\n",
      "2022-08-30 14:24:04,281 INFO sqlalchemy.engine.Engine UPDATE \"TB2103\" SET grade=? WHERE \"TB2103\".sid = ?\n",
      "2022-08-30 14:24:04,282 INFO sqlalchemy.engine.Engine [cached since 0.02802s ago] ('A+', 2100614)\n",
      "2022-08-30 14:24:04,282 INFO sqlalchemy.engine.Engine COMMIT\n",
      "2022-08-30 14:24:04,283 INFO sqlalchemy.engine.Engine BEGIN (implicit)\n",
      "2022-08-30 14:24:04,284 INFO sqlalchemy.engine.Engine SELECT \"TB2103\".sid AS \"TB2103_sid\", \"TB2103\".name AS \"TB2103_name\", \"TB2103\".grade AS \"TB2103_grade\" \n",
      "FROM \"TB2103\"\n",
      "2022-08-30 14:24:04,284 INFO sqlalchemy.engine.Engine [cached since 0.1247s ago] ()\n",
      "[<CLS2223T1(sid='2002345', name='Sansa Stark', grade='NA')>, <CLS2223T1(sid='2003456', name='Jon Snow', grade='A-')>, <CLS2223T1(sid='2100614', name='JunWei', grade='A+')>]\n",
      "2022-08-30 14:24:04,285 INFO sqlalchemy.engine.Engine ROLLBACK\n"
     ]
    }
   ],
   "source": [
    "\n",
    "with Session() as sessionInstance:\n",
    "    #Update my grade\n",
    "    JunWei = sessionInstance.query(CLS2223T1).filter(CLS2223T1.sid == \"2100614\").first()\n",
    "    JunWei.grade = \"A+\"\n",
    "    sessionInstance.commit()\n",
    "    update_myself = sessionInstance.query(CLS2223T1)\n",
    "    print(update_myself.all())\n",
    "    sessionInstance.close()"
   ]
  },
  {
   "cell_type": "code",
   "execution_count": 29,
   "metadata": {},
   "outputs": [
    {
     "name": "stdout",
     "output_type": "stream",
     "text": [
      "2022-08-30 14:24:04,303 INFO sqlalchemy.engine.Engine BEGIN (implicit)\n",
      "2022-08-30 14:24:04,304 INFO sqlalchemy.engine.Engine DELETE FROM \"TB2103\" WHERE \"TB2103\".sid = ?\n",
      "2022-08-30 14:24:04,304 INFO sqlalchemy.engine.Engine [generated in 0.00037s] ('2002345',)\n",
      "2022-08-30 14:24:04,305 INFO sqlalchemy.engine.Engine COMMIT\n",
      "2022-08-30 14:24:04,306 INFO sqlalchemy.engine.Engine BEGIN (implicit)\n",
      "2022-08-30 14:24:04,307 INFO sqlalchemy.engine.Engine SELECT \"TB2103\".sid AS \"TB2103_sid\", \"TB2103\".name AS \"TB2103_name\", \"TB2103\".grade AS \"TB2103_grade\" \n",
      "FROM \"TB2103\"\n",
      "2022-08-30 14:24:04,307 INFO sqlalchemy.engine.Engine [cached since 0.1476s ago] ()\n",
      "[<CLS2223T1(sid='2003456', name='Jon Snow', grade='A-')>, <CLS2223T1(sid='2100614', name='JunWei', grade='A+')>]\n",
      "2022-08-30 14:24:04,308 INFO sqlalchemy.engine.Engine ROLLBACK\n"
     ]
    }
   ],
   "source": [
    "with Session() as sessionInstance:\n",
    "    #Delete Sansa Stark\n",
    "    Sansa = sessionInstance.query(CLS2223T1).filter(CLS2223T1.sid == \"2002345\")\n",
    "    Sansa.delete()\n",
    "    sessionInstance.commit()\n",
    "    delete_sansa = sessionInstance.query(CLS2223T1)\n",
    "    print(delete_sansa.all())\n",
    "    sessionInstance.close()"
   ]
  },
  {
   "cell_type": "code",
   "execution_count": 30,
   "metadata": {},
   "outputs": [
    {
     "name": "stdout",
     "output_type": "stream",
     "text": [
      "2022-08-30 14:24:04,327 INFO sqlalchemy.engine.Engine BEGIN (implicit)\n",
      "2022-08-30 14:24:04,327 INFO sqlalchemy.engine.Engine DELETE FROM \"TB2103\"\n",
      "2022-08-30 14:24:04,328 INFO sqlalchemy.engine.Engine [generated in 0.00038s] ()\n",
      "2022-08-30 14:24:04,328 INFO sqlalchemy.engine.Engine COMMIT\n",
      "2022-08-30 14:24:04,329 INFO sqlalchemy.engine.Engine BEGIN (implicit)\n",
      "2022-08-30 14:24:04,330 INFO sqlalchemy.engine.Engine SELECT \"TB2103\".sid AS \"TB2103_sid\", \"TB2103\".name AS \"TB2103_name\", \"TB2103\".grade AS \"TB2103_grade\" \n",
      "FROM \"TB2103\"\n",
      "2022-08-30 14:24:04,330 INFO sqlalchemy.engine.Engine [cached since 0.1707s ago] ()\n",
      "[]\n",
      "2022-08-30 14:24:04,331 INFO sqlalchemy.engine.Engine ROLLBACK\n"
     ]
    }
   ],
   "source": [
    "\n",
    "\n",
    "with Session() as sessionInstances:\n",
    "    #Delete all students\n",
    "    sessionInstance.query(CLS2223T1).delete()\n",
    "    sessionInstance.commit()\n",
    "    delete_all = sessionInstance.query(CLS2223T1)\n",
    "    print(delete_all.all())\n",
    "    sessionInstance.close()"
   ]
  }
 ],
 "metadata": {
  "language_info": {
   "name": "python"
  },
  "orig_nbformat": 4
 },
 "nbformat": 4,
 "nbformat_minor": 2
}
